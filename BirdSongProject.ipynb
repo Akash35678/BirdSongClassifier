{
  "nbformat": 4,
  "nbformat_minor": 0,
  "metadata": {
    "colab": {
      "provenance": [],
      "gpuType": "T4",
      "authorship_tag": "ABX9TyMHGXcAxrCAeFZNBPeQcz0X",
      "include_colab_link": true
    },
    "kernelspec": {
      "name": "python3",
      "display_name": "Python 3"
    },
    "language_info": {
      "name": "python"
    },
    "accelerator": "GPU"
  },
  "cells": [
    {
      "cell_type": "markdown",
      "metadata": {
        "id": "view-in-github",
        "colab_type": "text"
      },
      "source": [
        "<a href=\"https://colab.research.google.com/github/Akash35678/BirdsongClassifier/blob/main/BirdSongProject.ipynb\" target=\"_parent\"><img src=\"https://colab.research.google.com/assets/colab-badge.svg\" alt=\"Open In Colab\"/></a>"
      ]
    },
    {
      "cell_type": "code",
      "source": [],
      "metadata": {
        "id": "bOZ2itykaUoC"
      },
      "execution_count": null,
      "outputs": []
    },
    {
      "cell_type": "code",
      "execution_count": null,
      "metadata": {
        "id": "mWfspxmlkZaf"
      },
      "outputs": [],
      "source": [
        "import IPython.display as ipd\n",
        "import librosa.display\n",
        "import matplotlib.pyplot as plt\n",
        "import numpy as np\n",
        "from sklearn.utils import class_weight\n",
        "from tensorflow.keras.layers import Dense, Dropout, Flatten\n",
        "from tensorflow.keras.models import Model\n",
        "from tensorflow.keras.optimizers import Adam\n",
        "from tensorflow.keras.preprocessing.image import ImageDataGenerator"
      ]
    },
    {
      "cell_type": "code",
      "source": [
        "from google.colab import drive\n",
        "\n",
        "# Mount Google Drive\n",
        "drive.mount('/content/drive')"
      ],
      "metadata": {
        "colab": {
          "base_uri": "https://localhost:8080/"
        },
        "id": "e1Pa7hh_-Fbq",
        "outputId": "db19dc1a-aa22-4023-b037-d3171815d49e"
      },
      "execution_count": null,
      "outputs": [
        {
          "output_type": "stream",
          "name": "stdout",
          "text": [
            "Mounted at /content/drive\n"
          ]
        }
      ]
    },
    {
      "cell_type": "code",
      "source": [
        "from google.colab import drive\n",
        "import os\n",
        "\n",
        "\n",
        "# Navigate to the folder where your files are located\n",
        "folder_path = '/content/drive/MyDrive/ExtendedBirdDataset/train'  # Replace with your folder's path\n",
        "os.chdir(folder_path)\n",
        "\n",
        "# List the files in the folder and store their names in an array\n",
        "file_names = os.listdir()\n",
        "\n",
        "# Print the list of file names\n",
        "print(file_names)\n",
        "\n",
        "\n"
      ],
      "metadata": {
        "colab": {
          "base_uri": "https://localhost:8080/"
        },
        "id": "EaBIJHWCbMv-",
        "outputId": "8d4ad104-65bb-4bf6-fd94-0a01b6de1357"
      },
      "execution_count": null,
      "outputs": [
        {
          "output_type": "stream",
          "name": "stdout",
          "text": [
            "['WrenBabbler', 'StreakedSpiderhunter', 'WedgeBilledWarbler', 'YellowBreastedWarbler', 'YellowBelliedFantail', 'YellowVentedFlowerpecker', 'StreakBreastedBabbler', 'WhiteTailedFlycatcher', 'YellowThroatedFulvetta', 'VernalHangingParrot', 'PlainFlowerpecker', 'ScarletBackedFlowerpecker', 'Pnoepyga pusilla', 'SichuanLeafWarbler', 'Stachyridopsis ambigua', 'PuffThroatedBabbler', 'SpotBreastedParrotbill', 'RedFacedLiocichla', 'PinStrippedBabbler', 'SlenderBilledBabbler', 'IndianCuckoo', 'JungleMyna', 'OrientalDollarbird', 'Leafbird', 'PaleBlueFlycatcher', 'PaleChinnedFlycatcher', 'LargeBlueFlycatcher', 'LineatedBarbet', \"Jerdon'sLeafbird\", 'LongBilledWrenBabbler', 'GreyBackedShrike', 'CollaredKingfisher', 'GreyPeacockPheasant', \"Gould'sSunbird\", 'HillPatridge', 'CitrineWagtail', 'GreyPlover', 'Halcyon coromanda', 'GreyThroatedMartin', 'CinnamonBittern', 'AsianBarredOwlet', 'BlackBrowedReedWarbler', 'AndamanDrongo', 'BuffThroatedWarbler', 'AsianPalmSwift', 'BlueWingedLeafbird', 'AsianEmeraldCuckoo', 'BaikalBushWarbler', 'CacharBulbul', 'ChestnutTailedStarling', 'Alexandrine Parakeet', 'AndamanCoucal']\n"
          ]
        }
      ]
    },
    {
      "cell_type": "markdown",
      "source": [],
      "metadata": {
        "id": "OcQvuoGqd3IB"
      }
    },
    {
      "cell_type": "code",
      "source": [
        "import os\n",
        "import librosa\n",
        "import numpy as np\n",
        "\n",
        "# Define paths to your audio data directories\n",
        "train_data_dir = \"/content/drive/MyDrive/ExtendedBirdDataset/train\"\n",
        "\n",
        "# Initialize lists to store audio data and labels\n",
        "data = []\n",
        "labels = []\n",
        "\n",
        "# List of class names (bird species)\n",
        "class_names = file_names\n",
        "class_to_label = {class_name: i for i, class_name in enumerate(class_names)}\n",
        "\n",
        "\n",
        "# Function to load and preprocess audio data\n",
        "def load_and_preprocess_audio(audio_path, target_shape):\n",
        "    # Load the audio file using Librosa\n",
        "    signal, sr = librosa.load(audio_path, duration=10)  # Adjust duration as needed\n",
        "\n",
        "    # Preprocess the audio data (you may need to extract features)\n",
        "    # Example: Compute MFCC features from the audio\n",
        "    mfccs = librosa.feature.mfcc(y=signal, sr=sr, n_mfcc=target_shape[0])\n",
        "\n",
        "    # Pad or truncate the MFCC feature matrix to the target shape\n",
        "    if mfccs.shape[1] < target_shape[1]:\n",
        "        # Pad with zeros\n",
        "        mfccs = np.pad(mfccs, ((0, 0), (0, target_shape[1] - mfccs.shape[1])), mode='constant')\n",
        "    else:\n",
        "        # Truncate\n",
        "        mfccs = mfccs[:, :target_shape[1]]\n",
        "\n",
        "    return mfccs\n",
        "\n",
        "# Loop through class directories\n",
        "for class_name in class_names:\n",
        "    class_dir = os.path.join(train_data_dir, class_name)\n",
        "\n",
        "    # Loop through audio files in the class directory\n",
        "    for filename in os.listdir(class_dir):\n",
        "        if filename.endswith(\".wav\"):\n",
        "            # Load and preprocess the audio\n",
        "            audio_path = os.path.join(class_dir, filename)\n",
        "            audio_data = load_and_preprocess_audio(audio_path, target_shape=(13, 316))\n",
        "\n",
        "            # Append the audio data and corresponding label\n",
        "            data.append(audio_data)\n",
        "            labels.append(class_to_label[class_name])\n",
        "\n",
        "# Convert data and labels to NumPy arrays\n",
        "data = np.array(data)\n",
        "labels = np.array(labels)\n",
        "\n",
        "# Verify the shape of the data array (should be of shape [num_samples, num_mfcc_features, num_frames])\n",
        "print(\"Data shape:\", data.shape)\n",
        "\n",
        "\n"
      ],
      "metadata": {
        "colab": {
          "base_uri": "https://localhost:8080/"
        },
        "id": "PgoLcCNmZxhh",
        "outputId": "7f80fa5e-fd3d-4520-e35f-b94005af9130"
      },
      "execution_count": null,
      "outputs": [
        {
          "output_type": "stream",
          "name": "stdout",
          "text": [
            "Data shape: (925, 13, 316)\n"
          ]
        }
      ]
    },
    {
      "cell_type": "code",
      "source": [
        "data"
      ],
      "metadata": {
        "colab": {
          "base_uri": "https://localhost:8080/"
        },
        "id": "uDxK6KbOgHFq",
        "outputId": "cafa1e71-9337-4188-fbcb-4c93ddff2d1e"
      },
      "execution_count": null,
      "outputs": [
        {
          "output_type": "execute_result",
          "data": {
            "text/plain": [
              "array([[[-3.13851898e+02, -2.10653229e+02, -2.02836090e+02, ...,\n",
              "         -3.31770050e+02, -3.31466278e+02, -3.31642487e+02],\n",
              "        [ 9.60982285e+01,  8.98276138e+01,  7.81309280e+01, ...,\n",
              "          3.29604607e+01,  3.54415932e+01,  3.21174355e+01],\n",
              "        [ 2.33757095e+01,  2.12188416e+01,  1.73258476e+01, ...,\n",
              "          2.44853325e+01,  2.54410973e+01,  2.50377827e+01],\n",
              "        ...,\n",
              "        [ 7.35777569e+00,  3.75514412e+00,  1.59428525e+00, ...,\n",
              "          6.73910713e+00,  2.54890966e+00,  3.52627325e+00],\n",
              "        [ 9.52860641e+00,  8.99256516e+00,  4.33318138e+00, ...,\n",
              "         -4.25015241e-01, -3.63287735e+00, -8.96474171e+00],\n",
              "        [ 7.42515850e+00,  6.32533979e+00,  5.70749474e+00, ...,\n",
              "          8.72002983e+00,  1.03577118e+01,  4.10892582e+00]],\n",
              "\n",
              "       [[-4.10014801e+02, -3.27602264e+02, -3.65323242e+02, ...,\n",
              "         -4.69094360e+02, -4.70032837e+02, -4.68754211e+02],\n",
              "        [ 1.15176735e+02,  1.16250580e+02,  1.15063782e+02, ...,\n",
              "          8.65882263e+01,  8.67082520e+01,  8.90795822e+01],\n",
              "        [ 1.92181396e+01,  1.81419640e+01,  1.55680389e+01, ...,\n",
              "          1.77410641e+01,  1.26193676e+01,  9.39159584e+00],\n",
              "        ...,\n",
              "        [ 5.18941069e+00,  4.58911228e+00,  4.07905388e+00, ...,\n",
              "         -1.07177997e+00, -4.05614471e+00, -5.44773388e+00],\n",
              "        [ 6.54813671e+00,  7.91784525e+00,  5.40827227e+00, ...,\n",
              "          1.07718587e+00,  2.35776472e+00,  2.52577126e-01],\n",
              "        [ 2.98433542e+00,  2.19423127e+00,  2.60730362e+00, ...,\n",
              "          1.09896302e+00,  3.49166083e+00,  1.91953242e+00]],\n",
              "\n",
              "       [[-3.13851898e+02, -2.10653229e+02, -2.02836090e+02, ...,\n",
              "         -3.31770050e+02, -3.31466278e+02, -3.31642487e+02],\n",
              "        [ 9.60982285e+01,  8.98276138e+01,  7.81309280e+01, ...,\n",
              "          3.29604607e+01,  3.54415932e+01,  3.21174355e+01],\n",
              "        [ 2.33757095e+01,  2.12188416e+01,  1.73258476e+01, ...,\n",
              "          2.44853325e+01,  2.54410973e+01,  2.50377827e+01],\n",
              "        ...,\n",
              "        [ 7.35777569e+00,  3.75514412e+00,  1.59428525e+00, ...,\n",
              "          6.73910713e+00,  2.54890966e+00,  3.52627325e+00],\n",
              "        [ 9.52860641e+00,  8.99256516e+00,  4.33318138e+00, ...,\n",
              "         -4.25015241e-01, -3.63287735e+00, -8.96474171e+00],\n",
              "        [ 7.42515850e+00,  6.32533979e+00,  5.70749474e+00, ...,\n",
              "          8.72002983e+00,  1.03577118e+01,  4.10892582e+00]],\n",
              "\n",
              "       ...,\n",
              "\n",
              "       [[-5.28223816e+02, -5.28223816e+02, -5.28223816e+02, ...,\n",
              "         -4.63580231e+02, -4.67147430e+02, -4.67841156e+02],\n",
              "        [ 0.00000000e+00,  0.00000000e+00,  0.00000000e+00, ...,\n",
              "          5.37682648e+01,  5.14178925e+01,  4.93622742e+01],\n",
              "        [ 0.00000000e+00,  0.00000000e+00,  0.00000000e+00, ...,\n",
              "          4.38791046e+01,  4.41294785e+01,  4.35101204e+01],\n",
              "        ...,\n",
              "        [ 0.00000000e+00,  0.00000000e+00,  0.00000000e+00, ...,\n",
              "         -1.10508308e+01, -7.74716377e+00, -8.96471977e+00],\n",
              "        [ 0.00000000e+00,  0.00000000e+00,  0.00000000e+00, ...,\n",
              "         -1.64140663e+01, -1.57920246e+01, -1.62923908e+01],\n",
              "        [ 0.00000000e+00,  0.00000000e+00,  0.00000000e+00, ...,\n",
              "          6.56498623e+00,  7.74176598e+00,  7.85537052e+00]],\n",
              "\n",
              "       [[-5.75274231e+02, -5.64853577e+02, -5.68817383e+02, ...,\n",
              "          0.00000000e+00,  0.00000000e+00,  0.00000000e+00],\n",
              "        [ 1.32371199e+00, -1.20394306e+01, -1.55756731e+01, ...,\n",
              "          0.00000000e+00,  0.00000000e+00,  0.00000000e+00],\n",
              "        [ 3.16812630e+01,  3.35568619e+01,  3.92267914e+01, ...,\n",
              "          0.00000000e+00,  0.00000000e+00,  0.00000000e+00],\n",
              "        ...,\n",
              "        [ 2.68995018e+01,  3.43766556e+01,  3.28538513e+01, ...,\n",
              "          0.00000000e+00,  0.00000000e+00,  0.00000000e+00],\n",
              "        [-2.51905751e+00, -4.85390472e+00, -9.63186455e+00, ...,\n",
              "          0.00000000e+00,  0.00000000e+00,  0.00000000e+00],\n",
              "        [ 5.84815931e+00,  1.75913703e+00,  2.82236099e-01, ...,\n",
              "          0.00000000e+00,  0.00000000e+00,  0.00000000e+00]],\n",
              "\n",
              "       [[-2.42793945e+02, -1.92593552e+02, -1.92573105e+02, ...,\n",
              "          0.00000000e+00,  0.00000000e+00,  0.00000000e+00],\n",
              "        [ 9.28271179e+01,  8.54821396e+01,  7.88862915e+01, ...,\n",
              "          0.00000000e+00,  0.00000000e+00,  0.00000000e+00],\n",
              "        [ 1.92211514e+01,  2.23899345e+01,  2.26805878e+01, ...,\n",
              "          0.00000000e+00,  0.00000000e+00,  0.00000000e+00],\n",
              "        ...,\n",
              "        [ 8.17474651e+00,  4.93559933e+00, -3.19454193e-01, ...,\n",
              "          0.00000000e+00,  0.00000000e+00,  0.00000000e+00],\n",
              "        [ 4.93482590e-01, -1.65611327e+00, -6.91565514e-01, ...,\n",
              "          0.00000000e+00,  0.00000000e+00,  0.00000000e+00],\n",
              "        [ 5.62944555e+00,  2.55222702e+00,  1.05051112e+00, ...,\n",
              "          0.00000000e+00,  0.00000000e+00,  0.00000000e+00]]],\n",
              "      dtype=float32)"
            ]
          },
          "metadata": {},
          "execution_count": 10
        }
      ]
    },
    {
      "cell_type": "code",
      "source": [
        "import os\n",
        "import librosa\n",
        "import numpy as np\n",
        "import tensorflow as tf\n",
        "from tensorflow.keras import layers, models\n",
        "from tensorflow.keras.utils import to_categorical\n",
        "\n",
        "model = models.Sequential([\n",
        "    layers.Input(shape=(13, 316, 1)),  # Input shape should match the preprocessed data shape\n",
        "    layers.Conv2D(32, (3, 3), activation='relu'),\n",
        "    layers.MaxPooling2D((2, 2)),\n",
        "    layers.Conv2D(64, (3, 3), activation='relu'),\n",
        "    layers.MaxPooling2D((2, 2)),\n",
        "    layers.Flatten(),\n",
        "    layers.Dense(128, activation='relu'),\n",
        "    layers.Dense(len(class_names), activation='softmax')  # Number of output classes\n",
        "])\n",
        "\n",
        "# Compile the model\n",
        "model.compile(optimizer='adam',\n",
        "              loss='sparse_categorical_crossentropy',\n",
        "              metrics=['accuracy'])\n",
        "# Train the model\n",
        "model.fit(data, labels, epochs=10, validation_split=0.2, batch_size=16)\n",
        "\n",
        "# Save the trained model if needed\n",
        "model.save(\"audio_classifier_model.h5\")"
      ],
      "metadata": {
        "colab": {
          "base_uri": "https://localhost:8080/",
          "height": 254
        },
        "id": "AjO_XFGMfAzN",
        "outputId": "7e226d91-a95c-41ee-9f1f-e83db0846e02"
      },
      "execution_count": null,
      "outputs": [
        {
          "output_type": "error",
          "ename": "NameError",
          "evalue": "ignored",
          "traceback": [
            "\u001b[0;31m---------------------------------------------------------------------------\u001b[0m",
            "\u001b[0;31mNameError\u001b[0m                                 Traceback (most recent call last)",
            "\u001b[0;32m<ipython-input-1-d0cf98861ffd>\u001b[0m in \u001b[0;36m<cell line: 8>\u001b[0;34m()\u001b[0m\n\u001b[1;32m     14\u001b[0m     \u001b[0mlayers\u001b[0m\u001b[0;34m.\u001b[0m\u001b[0mFlatten\u001b[0m\u001b[0;34m(\u001b[0m\u001b[0;34m)\u001b[0m\u001b[0;34m,\u001b[0m\u001b[0;34m\u001b[0m\u001b[0;34m\u001b[0m\u001b[0m\n\u001b[1;32m     15\u001b[0m     \u001b[0mlayers\u001b[0m\u001b[0;34m.\u001b[0m\u001b[0mDense\u001b[0m\u001b[0;34m(\u001b[0m\u001b[0;36m128\u001b[0m\u001b[0;34m,\u001b[0m \u001b[0mactivation\u001b[0m\u001b[0;34m=\u001b[0m\u001b[0;34m'relu'\u001b[0m\u001b[0;34m)\u001b[0m\u001b[0;34m,\u001b[0m\u001b[0;34m\u001b[0m\u001b[0;34m\u001b[0m\u001b[0m\n\u001b[0;32m---> 16\u001b[0;31m     \u001b[0mlayers\u001b[0m\u001b[0;34m.\u001b[0m\u001b[0mDense\u001b[0m\u001b[0;34m(\u001b[0m\u001b[0mlen\u001b[0m\u001b[0;34m(\u001b[0m\u001b[0mclass_names\u001b[0m\u001b[0;34m)\u001b[0m\u001b[0;34m,\u001b[0m \u001b[0mactivation\u001b[0m\u001b[0;34m=\u001b[0m\u001b[0;34m'softmax'\u001b[0m\u001b[0;34m)\u001b[0m  \u001b[0;31m# Number of output classes\u001b[0m\u001b[0;34m\u001b[0m\u001b[0;34m\u001b[0m\u001b[0m\n\u001b[0m\u001b[1;32m     17\u001b[0m ])\n\u001b[1;32m     18\u001b[0m \u001b[0;34m\u001b[0m\u001b[0m\n",
            "\u001b[0;31mNameError\u001b[0m: name 'class_names' is not defined"
          ]
        }
      ]
    },
    {
      "cell_type": "code",
      "source": [
        "import os\n",
        "import librosa\n",
        "import numpy as np\n",
        "import tensorflow as tf\n",
        "from tensorflow.keras import models\n",
        "\n",
        "# Define the path to your trained model\n",
        "model_path = \"audio_classifier_model.h5\"  # Replace with the actual path to your model file\n",
        "\n",
        "# Load the trained model\n",
        "model = models.load_model(model_path)\n",
        "\n",
        "# Define a function to preprocess an MP3 file\n",
        "def preprocess_mp3(mp3_path, target_shape):\n",
        "    # Load the MP3 file using Librosa\n",
        "    signal, sr = librosa.load(mp3_path, duration=10)  # Adjust duration as needed\n",
        "\n",
        "    # Preprocess the audio data (e.g., compute MFCC features)\n",
        "    mfccs = librosa.feature.mfcc(y=signal, sr=sr, n_mfcc=target_shape[0])\n",
        "\n",
        "    # Pad or truncate the MFCC feature matrix to the target shape\n",
        "    if mfccs.shape[1] < target_shape[1]:\n",
        "        # Pad with zeros\n",
        "        mfccs = np.pad(mfccs, ((0, 0), (0, target_shape[1] - mfccs.shape[1])), mode='constant')\n",
        "    else:\n",
        "        # Truncate\n",
        "        mfccs = mfccs[:, :target_shape[1]]\n",
        "\n",
        "    # Reshape to match the model input shape (add a batch dimension)\n",
        "    mfccs = np.expand_dims(mfccs, axis=-1)\n",
        "\n",
        "    return mfccs\n",
        "\n",
        "# Path to the MP3 file you want to test\n",
        "mp3_file_path = \"/content/XC472540 - Jungle Myna - Acridotheres fuscus.mp3\"\n",
        "\n",
        "# Preprocess the MP3 file\n",
        "preprocessed_audio = preprocess_mp3(mp3_file_path, target_shape=(13, 316))\n",
        "\n",
        "# Make predictions using the model\n",
        "predictions = model.predict(np.array([preprocessed_audio]))\n",
        "\n",
        "# Get the predicted class index\n",
        "predicted_class_index = np.argmax(predictions)\n",
        "\n",
        "# Define class names\n",
        "class_names=file_names\n",
        "\n",
        "# Get the predicted class name\n",
        "predicted_class_name = class_names[predicted_class_index]\n",
        "\n",
        "# Print the result\n",
        "print(f\"Predicted class: {predicted_class_name}\")"
      ],
      "metadata": {
        "colab": {
          "base_uri": "https://localhost:8080/"
        },
        "id": "WJSly80zhvs6",
        "outputId": "f55af1f5-e407-492b-be52-1074cb16cd7b"
      },
      "execution_count": null,
      "outputs": [
        {
          "output_type": "stream",
          "name": "stdout",
          "text": [
            "1/1 [==============================] - 0s 84ms/step\n",
            "Predicted class: JungleMyna\n"
          ]
        }
      ]
    },
    {
      "cell_type": "code",
      "source": [
        "class_names\n"
      ],
      "metadata": {
        "colab": {
          "base_uri": "https://localhost:8080/"
        },
        "id": "a4YKhEJFgPAn",
        "outputId": "12adac27-6529-452a-da2f-1028856db5ad"
      },
      "execution_count": null,
      "outputs": [
        {
          "output_type": "execute_result",
          "data": {
            "text/plain": [
              "['WrenBabbler',\n",
              " 'StreakedSpiderhunter',\n",
              " 'WedgeBilledWarbler',\n",
              " 'YellowBreastedWarbler',\n",
              " 'YellowBelliedFantail',\n",
              " 'YellowVentedFlowerpecker',\n",
              " 'StreakBreastedBabbler',\n",
              " 'WhiteTailedFlycatcher',\n",
              " 'YellowThroatedFulvetta',\n",
              " 'VernalHangingParrot',\n",
              " 'PlainFlowerpecker',\n",
              " 'ScarletBackedFlowerpecker',\n",
              " 'Pnoepyga pusilla',\n",
              " 'SichuanLeafWarbler',\n",
              " 'Stachyridopsis ambigua',\n",
              " 'PuffThroatedBabbler',\n",
              " 'SpotBreastedParrotbill',\n",
              " 'RedFacedLiocichla',\n",
              " 'PinStrippedBabbler',\n",
              " 'SlenderBilledBabbler',\n",
              " 'IndianCuckoo',\n",
              " 'JungleMyna',\n",
              " 'OrientalDollarbird',\n",
              " 'Leafbird',\n",
              " 'PaleBlueFlycatcher',\n",
              " 'PaleChinnedFlycatcher',\n",
              " 'LargeBlueFlycatcher',\n",
              " 'LineatedBarbet',\n",
              " \"Jerdon'sLeafbird\",\n",
              " 'LongBilledWrenBabbler',\n",
              " 'GreyBackedShrike',\n",
              " 'CollaredKingfisher',\n",
              " 'GreyPeacockPheasant',\n",
              " \"Gould'sSunbird\",\n",
              " 'HillPatridge',\n",
              " 'CitrineWagtail',\n",
              " 'GreyPlover',\n",
              " 'Halcyon coromanda',\n",
              " 'GreyThroatedMartin',\n",
              " 'CinnamonBittern',\n",
              " 'AsianBarredOwlet',\n",
              " 'BlackBrowedReedWarbler',\n",
              " 'AndamanDrongo',\n",
              " 'BuffThroatedWarbler',\n",
              " 'AsianPalmSwift',\n",
              " 'BlueWingedLeafbird',\n",
              " 'AsianEmeraldCuckoo',\n",
              " 'BaikalBushWarbler',\n",
              " 'CacharBulbul',\n",
              " 'ChestnutTailedStarling',\n",
              " 'Alexandrine Parakeet',\n",
              " 'AndamanCoucal']"
            ]
          },
          "metadata": {},
          "execution_count": 19
        }
      ]
    },
    {
      "cell_type": "code",
      "source": [],
      "metadata": {
        "id": "lmfkelaJgQ9z"
      },
      "execution_count": null,
      "outputs": []
    }
  ]
}